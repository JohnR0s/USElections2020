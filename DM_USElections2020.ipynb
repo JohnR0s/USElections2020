{
  "nbformat": 4,
  "nbformat_minor": 0,
  "metadata": {
    "colab": {
      "provenance": [],
      "collapsed_sections": [
        "vgZGgU__JxAW",
        "kn9KrjcgJ062",
        "MTE5t7g16jdc",
        "3Rj1gvnHr5gt",
        "IbA1nfIj6u_r",
        "li7PKJu7FfoP",
        "OWofo06cFk5D",
        "Zra7kbWCFr8W",
        "AKd9jVbPFZM3",
        "2noAmRK2XDRX",
        "79wkj74tOcza"
      ]
    },
    "kernelspec": {
      "name": "python3",
      "display_name": "Python 3"
    },
    "language_info": {
      "name": "python"
    }
  },
  "cells": [
    {
      "cell_type": "markdown",
      "source": [
        "#Elections"
      ],
      "metadata": {
        "id": "lBjDq-cp2z0y"
      }
    },
    {
      "cell_type": "markdown",
      "source": [
        "##Settings"
      ],
      "metadata": {
        "id": "MnEoGb1G28k_"
      }
    },
    {
      "cell_type": "code",
      "source": [
        "!pip install pyspark -q"
      ],
      "metadata": {
        "colab": {
          "base_uri": "https://localhost:8080/"
        },
        "id": "URohpMi4o1vn",
        "outputId": "5c3eed47-3f5c-4e7d-828a-dfc46583dade"
      },
      "execution_count": 2,
      "outputs": [
        {
          "output_type": "stream",
          "name": "stdout",
          "text": [
            "\u001b[2K     \u001b[90m━━━━━━━━━━━━━━━━━━━━━━━━━━━━━━━━━━━━━━━\u001b[0m \u001b[32m310.8/310.8 MB\u001b[0m \u001b[31m4.0 MB/s\u001b[0m eta \u001b[36m0:00:00\u001b[0m\n",
            "\u001b[?25h  Preparing metadata (setup.py) ... \u001b[?25l\u001b[?25hdone\n",
            "  Building wheel for pyspark (setup.py) ... \u001b[?25l\u001b[?25hdone\n"
          ]
        }
      ]
    },
    {
      "cell_type": "code",
      "source": [
        "!pip install plotly -q"
      ],
      "metadata": {
        "id": "F4_d6Kx018hO"
      },
      "execution_count": 15,
      "outputs": []
    },
    {
      "cell_type": "markdown",
      "source": [
        "###Kaggle"
      ],
      "metadata": {
        "id": "vgZGgU__JxAW"
      }
    },
    {
      "cell_type": "markdown",
      "source": [
        "Cargamos archivo con API de Kaggle"
      ],
      "metadata": {
        "id": "TNYNy9NW3Jvu"
      }
    },
    {
      "cell_type": "code",
      "execution_count": null,
      "metadata": {
        "id": "Olk-ThTkExYs",
        "colab": {
          "base_uri": "https://localhost:8080/"
        },
        "outputId": "0e95a3b8-360e-41a0-bf61-57cc6528f9a0"
      },
      "outputs": [
        {
          "output_type": "display_data",
          "data": {
            "text/plain": [
              "<IPython.core.display.HTML object>"
            ],
            "text/html": [
              "\n",
              "     <input type=\"file\" id=\"files-434971eb-1b9b-4579-80a8-bad6090db31d\" name=\"files[]\" multiple disabled\n",
              "        style=\"border:none\" />\n",
              "     <output id=\"result-434971eb-1b9b-4579-80a8-bad6090db31d\">\n",
              "      Upload widget is only available when the cell has been executed in the\n",
              "      current browser session. Please rerun this cell to enable.\n",
              "      </output>\n",
              "      <script>// Copyright 2017 Google LLC\n",
              "//\n",
              "// Licensed under the Apache License, Version 2.0 (the \"License\");\n",
              "// you may not use this file except in compliance with the License.\n",
              "// You may obtain a copy of the License at\n",
              "//\n",
              "//      http://www.apache.org/licenses/LICENSE-2.0\n",
              "//\n",
              "// Unless required by applicable law or agreed to in writing, software\n",
              "// distributed under the License is distributed on an \"AS IS\" BASIS,\n",
              "// WITHOUT WARRANTIES OR CONDITIONS OF ANY KIND, either express or implied.\n",
              "// See the License for the specific language governing permissions and\n",
              "// limitations under the License.\n",
              "\n",
              "/**\n",
              " * @fileoverview Helpers for google.colab Python module.\n",
              " */\n",
              "(function(scope) {\n",
              "function span(text, styleAttributes = {}) {\n",
              "  const element = document.createElement('span');\n",
              "  element.textContent = text;\n",
              "  for (const key of Object.keys(styleAttributes)) {\n",
              "    element.style[key] = styleAttributes[key];\n",
              "  }\n",
              "  return element;\n",
              "}\n",
              "\n",
              "// Max number of bytes which will be uploaded at a time.\n",
              "const MAX_PAYLOAD_SIZE = 100 * 1024;\n",
              "\n",
              "function _uploadFiles(inputId, outputId) {\n",
              "  const steps = uploadFilesStep(inputId, outputId);\n",
              "  const outputElement = document.getElementById(outputId);\n",
              "  // Cache steps on the outputElement to make it available for the next call\n",
              "  // to uploadFilesContinue from Python.\n",
              "  outputElement.steps = steps;\n",
              "\n",
              "  return _uploadFilesContinue(outputId);\n",
              "}\n",
              "\n",
              "// This is roughly an async generator (not supported in the browser yet),\n",
              "// where there are multiple asynchronous steps and the Python side is going\n",
              "// to poll for completion of each step.\n",
              "// This uses a Promise to block the python side on completion of each step,\n",
              "// then passes the result of the previous step as the input to the next step.\n",
              "function _uploadFilesContinue(outputId) {\n",
              "  const outputElement = document.getElementById(outputId);\n",
              "  const steps = outputElement.steps;\n",
              "\n",
              "  const next = steps.next(outputElement.lastPromiseValue);\n",
              "  return Promise.resolve(next.value.promise).then((value) => {\n",
              "    // Cache the last promise value to make it available to the next\n",
              "    // step of the generator.\n",
              "    outputElement.lastPromiseValue = value;\n",
              "    return next.value.response;\n",
              "  });\n",
              "}\n",
              "\n",
              "/**\n",
              " * Generator function which is called between each async step of the upload\n",
              " * process.\n",
              " * @param {string} inputId Element ID of the input file picker element.\n",
              " * @param {string} outputId Element ID of the output display.\n",
              " * @return {!Iterable<!Object>} Iterable of next steps.\n",
              " */\n",
              "function* uploadFilesStep(inputId, outputId) {\n",
              "  const inputElement = document.getElementById(inputId);\n",
              "  inputElement.disabled = false;\n",
              "\n",
              "  const outputElement = document.getElementById(outputId);\n",
              "  outputElement.innerHTML = '';\n",
              "\n",
              "  const pickedPromise = new Promise((resolve) => {\n",
              "    inputElement.addEventListener('change', (e) => {\n",
              "      resolve(e.target.files);\n",
              "    });\n",
              "  });\n",
              "\n",
              "  const cancel = document.createElement('button');\n",
              "  inputElement.parentElement.appendChild(cancel);\n",
              "  cancel.textContent = 'Cancel upload';\n",
              "  const cancelPromise = new Promise((resolve) => {\n",
              "    cancel.onclick = () => {\n",
              "      resolve(null);\n",
              "    };\n",
              "  });\n",
              "\n",
              "  // Wait for the user to pick the files.\n",
              "  const files = yield {\n",
              "    promise: Promise.race([pickedPromise, cancelPromise]),\n",
              "    response: {\n",
              "      action: 'starting',\n",
              "    }\n",
              "  };\n",
              "\n",
              "  cancel.remove();\n",
              "\n",
              "  // Disable the input element since further picks are not allowed.\n",
              "  inputElement.disabled = true;\n",
              "\n",
              "  if (!files) {\n",
              "    return {\n",
              "      response: {\n",
              "        action: 'complete',\n",
              "      }\n",
              "    };\n",
              "  }\n",
              "\n",
              "  for (const file of files) {\n",
              "    const li = document.createElement('li');\n",
              "    li.append(span(file.name, {fontWeight: 'bold'}));\n",
              "    li.append(span(\n",
              "        `(${file.type || 'n/a'}) - ${file.size} bytes, ` +\n",
              "        `last modified: ${\n",
              "            file.lastModifiedDate ? file.lastModifiedDate.toLocaleDateString() :\n",
              "                                    'n/a'} - `));\n",
              "    const percent = span('0% done');\n",
              "    li.appendChild(percent);\n",
              "\n",
              "    outputElement.appendChild(li);\n",
              "\n",
              "    const fileDataPromise = new Promise((resolve) => {\n",
              "      const reader = new FileReader();\n",
              "      reader.onload = (e) => {\n",
              "        resolve(e.target.result);\n",
              "      };\n",
              "      reader.readAsArrayBuffer(file);\n",
              "    });\n",
              "    // Wait for the data to be ready.\n",
              "    let fileData = yield {\n",
              "      promise: fileDataPromise,\n",
              "      response: {\n",
              "        action: 'continue',\n",
              "      }\n",
              "    };\n",
              "\n",
              "    // Use a chunked sending to avoid message size limits. See b/62115660.\n",
              "    let position = 0;\n",
              "    do {\n",
              "      const length = Math.min(fileData.byteLength - position, MAX_PAYLOAD_SIZE);\n",
              "      const chunk = new Uint8Array(fileData, position, length);\n",
              "      position += length;\n",
              "\n",
              "      const base64 = btoa(String.fromCharCode.apply(null, chunk));\n",
              "      yield {\n",
              "        response: {\n",
              "          action: 'append',\n",
              "          file: file.name,\n",
              "          data: base64,\n",
              "        },\n",
              "      };\n",
              "\n",
              "      let percentDone = fileData.byteLength === 0 ?\n",
              "          100 :\n",
              "          Math.round((position / fileData.byteLength) * 100);\n",
              "      percent.textContent = `${percentDone}% done`;\n",
              "\n",
              "    } while (position < fileData.byteLength);\n",
              "  }\n",
              "\n",
              "  // All done.\n",
              "  yield {\n",
              "    response: {\n",
              "      action: 'complete',\n",
              "    }\n",
              "  };\n",
              "}\n",
              "\n",
              "scope.google = scope.google || {};\n",
              "scope.google.colab = scope.google.colab || {};\n",
              "scope.google.colab._files = {\n",
              "  _uploadFiles,\n",
              "  _uploadFilesContinue,\n",
              "};\n",
              "})(self);\n",
              "</script> "
            ]
          },
          "metadata": {}
        }
      ],
      "source": [
        "from google.colab import files\n",
        "files.upload() # Subir API de Kaggle"
      ]
    },
    {
      "cell_type": "markdown",
      "source": [
        "Creación de directorio"
      ],
      "metadata": {
        "id": "jrimpqFh3cor"
      }
    },
    {
      "cell_type": "code",
      "source": [
        "!ls -lha kaggle.json # print\n",
        "!pip install -q kaggle # installing the kaggle package\n",
        "!mkdir -p ~/.kaggle # creating .kaggle folder where the key should be placed\n",
        "!cp kaggle.json ~/.kaggle/ # move the key to the folder\n",
        "!pwd # checking the present working directory\n",
        "!chmod 600 ~/.kaggle/kaggle.json # Change file mode bits"
      ],
      "metadata": {
        "id": "8UhOlbZzE2os"
      },
      "execution_count": null,
      "outputs": []
    },
    {
      "cell_type": "markdown",
      "source": [
        "Obtenemos el conjunto de datos de Kaggle y lo descomprimimos"
      ],
      "metadata": {
        "id": "gbabvbFP3gMk"
      }
    },
    {
      "cell_type": "code",
      "source": [
        "!kaggle datasets download -d tunguz/us-elections-dataset"
      ],
      "metadata": {
        "id": "52CppXYwFBUd"
      },
      "execution_count": null,
      "outputs": []
    },
    {
      "cell_type": "code",
      "source": [
        "!unzip us-elections-dataset.zip"
      ],
      "metadata": {
        "id": "hMZo1XuPFGnU"
      },
      "execution_count": null,
      "outputs": []
    },
    {
      "cell_type": "markdown",
      "source": [
        "###Google Drive"
      ],
      "metadata": {
        "id": "kn9KrjcgJ062"
      }
    },
    {
      "cell_type": "markdown",
      "source": [
        "Montamos una conexión con Google Drive"
      ],
      "metadata": {
        "id": "neBNIxoLGIGX"
      }
    },
    {
      "cell_type": "code",
      "source": [
        "from google.colab import drive\n",
        "drive.mount('drive')"
      ],
      "metadata": {
        "id": "pzeR-tGZGHo8",
        "colab": {
          "base_uri": "https://localhost:8080/"
        },
        "outputId": "8380bcc5-52c7-47db-bb46-556f00262f93"
      },
      "execution_count": 5,
      "outputs": [
        {
          "output_type": "stream",
          "name": "stdout",
          "text": [
            "Mounted at drive\n"
          ]
        }
      ]
    },
    {
      "cell_type": "markdown",
      "source": [
        "##Librerías"
      ],
      "metadata": {
        "id": "DSTkVQbz3sjs"
      }
    },
    {
      "cell_type": "code",
      "source": [
        "import random\n",
        "import pandas as pd\n",
        "import plotly.graph_objects as go\n",
        "import plotly.express as px\n",
        "\n",
        "from pyspark.sql import SparkSession\n",
        "from pyspark.streaming import StreamingContext"
      ],
      "metadata": {
        "id": "T271oDVgFqio"
      },
      "execution_count": 19,
      "outputs": []
    },
    {
      "cell_type": "markdown",
      "source": [
        "##Datos"
      ],
      "metadata": {
        "id": "MTE5t7g16jdc"
      }
    },
    {
      "cell_type": "markdown",
      "source": [
        "###1976-2020"
      ],
      "metadata": {
        "id": "3Rj1gvnHr5gt"
      }
    },
    {
      "cell_type": "markdown",
      "source": [
        "Abrimos el conjunto de datos en un primer acercamiento"
      ],
      "metadata": {
        "id": "WyT5bUZq8K_O"
      }
    },
    {
      "cell_type": "code",
      "source": [
        "df = pd.read_csv('/content/1976-2020-president.csv')"
      ],
      "metadata": {
        "id": "qAZ-b0R4FeBI"
      },
      "execution_count": null,
      "outputs": []
    },
    {
      "cell_type": "markdown",
      "source": [
        "####Primer Análisis"
      ],
      "metadata": {
        "id": "J0EtjUBI6pc1"
      }
    },
    {
      "cell_type": "markdown",
      "source": [
        "Observamos las características y contenido del conjunto de datos"
      ],
      "metadata": {
        "id": "4eolaAqI8Rfh"
      }
    },
    {
      "cell_type": "code",
      "source": [
        "df.head()"
      ],
      "metadata": {
        "id": "K9YZ8jBoJFya"
      },
      "execution_count": null,
      "outputs": []
    },
    {
      "cell_type": "code",
      "source": [
        "df.sample()"
      ],
      "metadata": {
        "id": "kOyqETKEJKQH"
      },
      "execution_count": null,
      "outputs": []
    },
    {
      "cell_type": "code",
      "source": [
        "df.tail()"
      ],
      "metadata": {
        "id": "fDqnP1RSJMg-"
      },
      "execution_count": null,
      "outputs": []
    },
    {
      "cell_type": "code",
      "source": [
        "df.info()"
      ],
      "metadata": {
        "id": "fBcOYmn468_l"
      },
      "execution_count": null,
      "outputs": []
    },
    {
      "cell_type": "code",
      "source": [
        "df.isna().sum()"
      ],
      "metadata": {
        "id": "9ALNvOr766lO"
      },
      "execution_count": null,
      "outputs": []
    },
    {
      "cell_type": "code",
      "source": [
        "df.corr()"
      ],
      "metadata": {
        "id": "kHH17S2v7AoQ"
      },
      "execution_count": null,
      "outputs": []
    },
    {
      "cell_type": "markdown",
      "source": [
        "###Elecciones 2020"
      ],
      "metadata": {
        "id": "IbA1nfIj6u_r"
      }
    },
    {
      "cell_type": "markdown",
      "source": [
        "####Google Drive"
      ],
      "metadata": {
        "id": "li7PKJu7FfoP"
      }
    },
    {
      "cell_type": "markdown",
      "source": [
        "#####Exportación"
      ],
      "metadata": {
        "id": "OWofo06cFk5D"
      }
    },
    {
      "cell_type": "markdown",
      "source": [
        "Extraemos los datos de las elecciones presidenciales del 2020"
      ],
      "metadata": {
        "id": "p_oXPMI88eJ1"
      }
    },
    {
      "cell_type": "code",
      "source": [
        "df_2020 = df[df['year'] == 2020]"
      ],
      "metadata": {
        "id": "_DS-7LlQLpxF"
      },
      "execution_count": null,
      "outputs": []
    },
    {
      "cell_type": "markdown",
      "source": [
        "Guardamos el archivo en Google Drive"
      ],
      "metadata": {
        "id": "BDw9m_COGx51"
      }
    },
    {
      "cell_type": "code",
      "source": [
        "df_2020.to_csv('2020-president.csv',  encoding='utf-8', index = False, header=True)"
      ],
      "metadata": {
        "id": "7UjwDBB-F_Xm"
      },
      "execution_count": null,
      "outputs": []
    },
    {
      "cell_type": "code",
      "source": [
        "!cp 2020-president.csv '/content/drive/MyDrive/Data'"
      ],
      "metadata": {
        "id": "u8A46-H7GCXI"
      },
      "execution_count": null,
      "outputs": []
    },
    {
      "cell_type": "markdown",
      "source": [
        "#####Carga"
      ],
      "metadata": {
        "id": "Zra7kbWCFr8W"
      }
    },
    {
      "cell_type": "markdown",
      "source": [
        "Realizamos la carga del conjunto de datos previamente acotado"
      ],
      "metadata": {
        "id": "g1k5h_31GisU"
      }
    },
    {
      "cell_type": "code",
      "source": [
        "df = pd.read_csv('/content/drive/MyDrive/Data/2020-president.csv')"
      ],
      "metadata": {
        "id": "2_TqETWMFtPD"
      },
      "execution_count": null,
      "outputs": []
    },
    {
      "cell_type": "markdown",
      "source": [
        "####Segundo Análisis"
      ],
      "metadata": {
        "id": "AKd9jVbPFZM3"
      }
    },
    {
      "cell_type": "code",
      "source": [
        "df"
      ],
      "metadata": {
        "id": "0O7cBQqkMjOP"
      },
      "execution_count": null,
      "outputs": []
    },
    {
      "cell_type": "code",
      "source": [
        "df.notes.value_counts()"
      ],
      "metadata": {
        "id": "yoOccpl9PhX0"
      },
      "execution_count": null,
      "outputs": []
    },
    {
      "cell_type": "code",
      "source": [
        "df.party_simplified.value_counts()"
      ],
      "metadata": {
        "id": "NIJo9f_1Pm_G"
      },
      "execution_count": null,
      "outputs": []
    },
    {
      "cell_type": "code",
      "source": [
        "df.party_detailed.value_counts()"
      ],
      "metadata": {
        "id": "Bof92GE-Ptby"
      },
      "execution_count": null,
      "outputs": []
    },
    {
      "cell_type": "code",
      "source": [
        "df.candidatevotes.sum()"
      ],
      "metadata": {
        "id": "Ml8B4v6sMki7"
      },
      "execution_count": null,
      "outputs": []
    },
    {
      "cell_type": "code",
      "source": [
        "df.party_simplified.unique()"
      ],
      "metadata": {
        "id": "N4y-J-mVt5jD"
      },
      "execution_count": null,
      "outputs": []
    },
    {
      "cell_type": "markdown",
      "source": [
        "##Simulación de Datos"
      ],
      "metadata": {
        "id": "3PcXu1wr5yKT"
      }
    },
    {
      "cell_type": "markdown",
      "source": [
        "###Limpieza"
      ],
      "metadata": {
        "id": "2noAmRK2XDRX"
      }
    },
    {
      "cell_type": "markdown",
      "source": [
        "Determinamos el estado que más votantes tuvo para simular sus datos"
      ],
      "metadata": {
        "id": "j_IeCA-cCCHn"
      }
    },
    {
      "cell_type": "code",
      "source": [
        "df.loc[df.totalvotes.idxmax(), 'state']"
      ],
      "metadata": {
        "id": "NrcQ-b4sAR5F"
      },
      "execution_count": null,
      "outputs": []
    },
    {
      "cell_type": "markdown",
      "source": [
        "Extramos el estado en un nuevo dataframe"
      ],
      "metadata": {
        "id": "YJkj1SbhispX"
      }
    },
    {
      "cell_type": "code",
      "source": [
        "state = df[df['state'] == 'CALIFORNIA'].reset_index(drop=True)"
      ],
      "metadata": {
        "id": "MXlq09Sf97Qp"
      },
      "execution_count": null,
      "outputs": []
    },
    {
      "cell_type": "markdown",
      "source": [
        "Removemos algunas columnas para simplificar el problema"
      ],
      "metadata": {
        "id": "kt64g5p5X_P3"
      }
    },
    {
      "cell_type": "code",
      "source": [
        "ls_drop = ['year', 'state', 'state_po', 'state_cen', 'state_ic', 'party_detailed', 'writein', 'totalvotes', 'version', 'notes']"
      ],
      "metadata": {
        "id": "gyrxy1Vhh--n"
      },
      "execution_count": null,
      "outputs": []
    },
    {
      "cell_type": "code",
      "source": [
        "state.drop(ls_drop, axis=1, inplace=True)"
      ],
      "metadata": {
        "id": "ggGCNs3ei0X3"
      },
      "execution_count": null,
      "outputs": []
    },
    {
      "cell_type": "markdown",
      "source": [
        "Reduciremos las categorías de candidato a 3: 'Biden', 'Trump' y 'Others'"
      ],
      "metadata": {
        "id": "YwzeoavocZbF"
      }
    },
    {
      "cell_type": "code",
      "source": [
        "candidates = ['BIDEN, JOSEPH R. JR', 'TRUMP, DONALD J.']\n",
        "filt = state[state['candidate'].isin(candidates)]"
      ],
      "metadata": {
        "id": "a7J5APaSc2dY"
      },
      "execution_count": null,
      "outputs": []
    },
    {
      "cell_type": "code",
      "source": [
        "votos_other = state[~state['candidate'].isin(candidates)]['candidatevotes'].sum()"
      ],
      "metadata": {
        "id": "kSEbkkCWhh12"
      },
      "execution_count": null,
      "outputs": []
    },
    {
      "cell_type": "code",
      "source": [
        "other = pd.DataFrame({\n",
        "    'state_fips':[6],\n",
        "    'office': ['US PRESIDENT'],\n",
        "    'candidate': ['OTHER'],\n",
        "    'candidatevotes':[votos_other],\n",
        "    'party_simplified':['OTHER']\n",
        "})"
      ],
      "metadata": {
        "id": "TbyiU1bYhxAh"
      },
      "execution_count": null,
      "outputs": []
    },
    {
      "cell_type": "markdown",
      "source": [
        "Concatenamos los conjuntos creados sobrescribiendo el anterior "
      ],
      "metadata": {
        "id": "I-QslVjujULC"
      }
    },
    {
      "cell_type": "code",
      "source": [
        "state = pd.concat([filt, other]).reset_index(drop=True)\n",
        "state"
      ],
      "metadata": {
        "id": "FXQGc2o9dXIE"
      },
      "execution_count": null,
      "outputs": []
    },
    {
      "cell_type": "markdown",
      "source": [
        "Eliminamos las variables que ya no serán ocupadas"
      ],
      "metadata": {
        "id": "K8EGA-ehkndR"
      }
    },
    {
      "cell_type": "code",
      "source": [
        "del df, ls_drop, votos_other, candidates, filt, other"
      ],
      "metadata": {
        "id": "GA4M1bMMkbgh"
      },
      "execution_count": null,
      "outputs": []
    },
    {
      "cell_type": "markdown",
      "source": [
        "Guardamos el dataframe en un archivo csv para facilitar su carga posterior"
      ],
      "metadata": {
        "id": "Oi_nkaWwyvLs"
      }
    },
    {
      "cell_type": "code",
      "source": [
        "state.to_csv('californiaVotes.csv', encoding='utf-8', index=False, header=True)"
      ],
      "metadata": {
        "id": "uoVvhwIry1oH"
      },
      "execution_count": null,
      "outputs": []
    },
    {
      "cell_type": "code",
      "source": [
        "!cp californiaVotes.csv '/content/drive/MyDrive/Data'"
      ],
      "metadata": {
        "id": "nbM2CJa_zfVl"
      },
      "execution_count": null,
      "outputs": []
    },
    {
      "cell_type": "markdown",
      "source": [
        "###Generando Registros (Apache Spark)"
      ],
      "metadata": {
        "id": "qI1zCB-AWiud"
      }
    },
    {
      "cell_type": "markdown",
      "source": [
        "Cargamos el conjunto previamente generado"
      ],
      "metadata": {
        "id": "4GcCy_5Bz2Ht"
      }
    },
    {
      "cell_type": "code",
      "source": [
        "state = pd.read_csv('/content/drive/MyDrive/Data/californiaVotes.csv')\n",
        "state"
      ],
      "metadata": {
        "id": "HLlPuqikys5y",
        "colab": {
          "base_uri": "https://localhost:8080/",
          "height": 143
        },
        "outputId": "f1cb4c7c-b0ce-41e2-8135-817a6ee0ed67"
      },
      "execution_count": 5,
      "outputs": [
        {
          "output_type": "execute_result",
          "data": {
            "text/plain": [
              "   state_fips        office            candidate  candidatevotes  \\\n",
              "0           6  US PRESIDENT  BIDEN, JOSEPH R. JR        11110250   \n",
              "1           6  US PRESIDENT     TRUMP, DONALD J.         6006429   \n",
              "2           6  US PRESIDENT                OTHER          384202   \n",
              "\n",
              "  party_simplified  \n",
              "0         DEMOCRAT  \n",
              "1       REPUBLICAN  \n",
              "2            OTHER  "
            ],
            "text/html": [
              "\n",
              "  <div id=\"df-704be178-0c33-4d92-999a-c7e1267b8610\">\n",
              "    <div class=\"colab-df-container\">\n",
              "      <div>\n",
              "<style scoped>\n",
              "    .dataframe tbody tr th:only-of-type {\n",
              "        vertical-align: middle;\n",
              "    }\n",
              "\n",
              "    .dataframe tbody tr th {\n",
              "        vertical-align: top;\n",
              "    }\n",
              "\n",
              "    .dataframe thead th {\n",
              "        text-align: right;\n",
              "    }\n",
              "</style>\n",
              "<table border=\"1\" class=\"dataframe\">\n",
              "  <thead>\n",
              "    <tr style=\"text-align: right;\">\n",
              "      <th></th>\n",
              "      <th>state_fips</th>\n",
              "      <th>office</th>\n",
              "      <th>candidate</th>\n",
              "      <th>candidatevotes</th>\n",
              "      <th>party_simplified</th>\n",
              "    </tr>\n",
              "  </thead>\n",
              "  <tbody>\n",
              "    <tr>\n",
              "      <th>0</th>\n",
              "      <td>6</td>\n",
              "      <td>US PRESIDENT</td>\n",
              "      <td>BIDEN, JOSEPH R. JR</td>\n",
              "      <td>11110250</td>\n",
              "      <td>DEMOCRAT</td>\n",
              "    </tr>\n",
              "    <tr>\n",
              "      <th>1</th>\n",
              "      <td>6</td>\n",
              "      <td>US PRESIDENT</td>\n",
              "      <td>TRUMP, DONALD J.</td>\n",
              "      <td>6006429</td>\n",
              "      <td>REPUBLICAN</td>\n",
              "    </tr>\n",
              "    <tr>\n",
              "      <th>2</th>\n",
              "      <td>6</td>\n",
              "      <td>US PRESIDENT</td>\n",
              "      <td>OTHER</td>\n",
              "      <td>384202</td>\n",
              "      <td>OTHER</td>\n",
              "    </tr>\n",
              "  </tbody>\n",
              "</table>\n",
              "</div>\n",
              "      <button class=\"colab-df-convert\" onclick=\"convertToInteractive('df-704be178-0c33-4d92-999a-c7e1267b8610')\"\n",
              "              title=\"Convert this dataframe to an interactive table.\"\n",
              "              style=\"display:none;\">\n",
              "        \n",
              "  <svg xmlns=\"http://www.w3.org/2000/svg\" height=\"24px\"viewBox=\"0 0 24 24\"\n",
              "       width=\"24px\">\n",
              "    <path d=\"M0 0h24v24H0V0z\" fill=\"none\"/>\n",
              "    <path d=\"M18.56 5.44l.94 2.06.94-2.06 2.06-.94-2.06-.94-.94-2.06-.94 2.06-2.06.94zm-11 1L8.5 8.5l.94-2.06 2.06-.94-2.06-.94L8.5 2.5l-.94 2.06-2.06.94zm10 10l.94 2.06.94-2.06 2.06-.94-2.06-.94-.94-2.06-.94 2.06-2.06.94z\"/><path d=\"M17.41 7.96l-1.37-1.37c-.4-.4-.92-.59-1.43-.59-.52 0-1.04.2-1.43.59L10.3 9.45l-7.72 7.72c-.78.78-.78 2.05 0 2.83L4 21.41c.39.39.9.59 1.41.59.51 0 1.02-.2 1.41-.59l7.78-7.78 2.81-2.81c.8-.78.8-2.07 0-2.86zM5.41 20L4 18.59l7.72-7.72 1.47 1.35L5.41 20z\"/>\n",
              "  </svg>\n",
              "      </button>\n",
              "      \n",
              "  <style>\n",
              "    .colab-df-container {\n",
              "      display:flex;\n",
              "      flex-wrap:wrap;\n",
              "      gap: 12px;\n",
              "    }\n",
              "\n",
              "    .colab-df-convert {\n",
              "      background-color: #E8F0FE;\n",
              "      border: none;\n",
              "      border-radius: 50%;\n",
              "      cursor: pointer;\n",
              "      display: none;\n",
              "      fill: #1967D2;\n",
              "      height: 32px;\n",
              "      padding: 0 0 0 0;\n",
              "      width: 32px;\n",
              "    }\n",
              "\n",
              "    .colab-df-convert:hover {\n",
              "      background-color: #E2EBFA;\n",
              "      box-shadow: 0px 1px 2px rgba(60, 64, 67, 0.3), 0px 1px 3px 1px rgba(60, 64, 67, 0.15);\n",
              "      fill: #174EA6;\n",
              "    }\n",
              "\n",
              "    [theme=dark] .colab-df-convert {\n",
              "      background-color: #3B4455;\n",
              "      fill: #D2E3FC;\n",
              "    }\n",
              "\n",
              "    [theme=dark] .colab-df-convert:hover {\n",
              "      background-color: #434B5C;\n",
              "      box-shadow: 0px 1px 3px 1px rgba(0, 0, 0, 0.15);\n",
              "      filter: drop-shadow(0px 1px 2px rgba(0, 0, 0, 0.3));\n",
              "      fill: #FFFFFF;\n",
              "    }\n",
              "  </style>\n",
              "\n",
              "      <script>\n",
              "        const buttonEl =\n",
              "          document.querySelector('#df-704be178-0c33-4d92-999a-c7e1267b8610 button.colab-df-convert');\n",
              "        buttonEl.style.display =\n",
              "          google.colab.kernel.accessAllowed ? 'block' : 'none';\n",
              "\n",
              "        async function convertToInteractive(key) {\n",
              "          const element = document.querySelector('#df-704be178-0c33-4d92-999a-c7e1267b8610');\n",
              "          const dataTable =\n",
              "            await google.colab.kernel.invokeFunction('convertToInteractive',\n",
              "                                                     [key], {});\n",
              "          if (!dataTable) return;\n",
              "\n",
              "          const docLinkHtml = 'Like what you see? Visit the ' +\n",
              "            '<a target=\"_blank\" href=https://colab.research.google.com/notebooks/data_table.ipynb>data table notebook</a>'\n",
              "            + ' to learn more about interactive tables.';\n",
              "          element.innerHTML = '';\n",
              "          dataTable['output_type'] = 'display_data';\n",
              "          await google.colab.output.renderOutput(dataTable, element);\n",
              "          const docLink = document.createElement('div');\n",
              "          docLink.innerHTML = docLinkHtml;\n",
              "          element.appendChild(docLink);\n",
              "        }\n",
              "      </script>\n",
              "    </div>\n",
              "  </div>\n",
              "  "
            ]
          },
          "metadata": {},
          "execution_count": 5
        }
      ]
    },
    {
      "cell_type": "markdown",
      "source": [
        "Observamos los datos con una herramienta de visualización "
      ],
      "metadata": {
        "id": "BMOu_MaNy4jY"
      }
    },
    {
      "cell_type": "code",
      "source": [
        "fig = go.Figure()\n",
        "\n",
        "# Agregar las barras\n",
        "fig.add_trace(go.Bar(\n",
        "    x=state['candidate'],\n",
        "    y=state['candidatevotes'],\n",
        "    text=state['party_simplified'],\n",
        "    hovertemplate='Candidate: %{text}<br>Votes: %{y}',\n",
        "    marker_color=['blue', 'red', 'green'],  # Color de las barras\n",
        "))\n",
        "\n",
        "# Diseño gráfico\n",
        "fig.update_layout(\n",
        "    title='US Elections 2020',\n",
        "    xaxis_title='Candidate',\n",
        "    yaxis_title='Votes',\n",
        ")\n",
        "\n",
        "fig.show()"
      ],
      "metadata": {
        "colab": {
          "base_uri": "https://localhost:8080/",
          "height": 542
        },
        "id": "SNw86MNV2Fyh",
        "outputId": "3853e8c0-29ab-420a-8d85-dc81e6ca6673"
      },
      "execution_count": 21,
      "outputs": [
        {
          "output_type": "display_data",
          "data": {
            "text/html": [
              "<html>\n",
              "<head><meta charset=\"utf-8\" /></head>\n",
              "<body>\n",
              "    <div>            <script src=\"https://cdnjs.cloudflare.com/ajax/libs/mathjax/2.7.5/MathJax.js?config=TeX-AMS-MML_SVG\"></script><script type=\"text/javascript\">if (window.MathJax && window.MathJax.Hub && window.MathJax.Hub.Config) {window.MathJax.Hub.Config({SVG: {font: \"STIX-Web\"}});}</script>                <script type=\"text/javascript\">window.PlotlyConfig = {MathJaxConfig: 'local'};</script>\n",
              "        <script src=\"https://cdn.plot.ly/plotly-2.18.2.min.js\"></script>                <div id=\"4eecc60c-54a2-47c6-a8f6-5688b5166738\" class=\"plotly-graph-div\" style=\"height:525px; width:100%;\"></div>            <script type=\"text/javascript\">                                    window.PLOTLYENV=window.PLOTLYENV || {};                                    if (document.getElementById(\"4eecc60c-54a2-47c6-a8f6-5688b5166738\")) {                    Plotly.newPlot(                        \"4eecc60c-54a2-47c6-a8f6-5688b5166738\",                        [{\"hovertemplate\":\"Candidate: %{text}<br>Votes: %{y}\",\"marker\":{\"color\":[\"blue\",\"red\",\"green\"]},\"text\":[\"DEMOCRAT\",\"REPUBLICAN\",\"OTHER\"],\"x\":[\"BIDEN, JOSEPH R. JR\",\"TRUMP, DONALD J.\",\"OTHER\"],\"y\":[11110250,6006429,384202],\"type\":\"bar\"}],                        {\"template\":{\"data\":{\"histogram2dcontour\":[{\"type\":\"histogram2dcontour\",\"colorbar\":{\"outlinewidth\":0,\"ticks\":\"\"},\"colorscale\":[[0.0,\"#0d0887\"],[0.1111111111111111,\"#46039f\"],[0.2222222222222222,\"#7201a8\"],[0.3333333333333333,\"#9c179e\"],[0.4444444444444444,\"#bd3786\"],[0.5555555555555556,\"#d8576b\"],[0.6666666666666666,\"#ed7953\"],[0.7777777777777778,\"#fb9f3a\"],[0.8888888888888888,\"#fdca26\"],[1.0,\"#f0f921\"]]}],\"choropleth\":[{\"type\":\"choropleth\",\"colorbar\":{\"outlinewidth\":0,\"ticks\":\"\"}}],\"histogram2d\":[{\"type\":\"histogram2d\",\"colorbar\":{\"outlinewidth\":0,\"ticks\":\"\"},\"colorscale\":[[0.0,\"#0d0887\"],[0.1111111111111111,\"#46039f\"],[0.2222222222222222,\"#7201a8\"],[0.3333333333333333,\"#9c179e\"],[0.4444444444444444,\"#bd3786\"],[0.5555555555555556,\"#d8576b\"],[0.6666666666666666,\"#ed7953\"],[0.7777777777777778,\"#fb9f3a\"],[0.8888888888888888,\"#fdca26\"],[1.0,\"#f0f921\"]]}],\"heatmap\":[{\"type\":\"heatmap\",\"colorbar\":{\"outlinewidth\":0,\"ticks\":\"\"},\"colorscale\":[[0.0,\"#0d0887\"],[0.1111111111111111,\"#46039f\"],[0.2222222222222222,\"#7201a8\"],[0.3333333333333333,\"#9c179e\"],[0.4444444444444444,\"#bd3786\"],[0.5555555555555556,\"#d8576b\"],[0.6666666666666666,\"#ed7953\"],[0.7777777777777778,\"#fb9f3a\"],[0.8888888888888888,\"#fdca26\"],[1.0,\"#f0f921\"]]}],\"heatmapgl\":[{\"type\":\"heatmapgl\",\"colorbar\":{\"outlinewidth\":0,\"ticks\":\"\"},\"colorscale\":[[0.0,\"#0d0887\"],[0.1111111111111111,\"#46039f\"],[0.2222222222222222,\"#7201a8\"],[0.3333333333333333,\"#9c179e\"],[0.4444444444444444,\"#bd3786\"],[0.5555555555555556,\"#d8576b\"],[0.6666666666666666,\"#ed7953\"],[0.7777777777777778,\"#fb9f3a\"],[0.8888888888888888,\"#fdca26\"],[1.0,\"#f0f921\"]]}],\"contourcarpet\":[{\"type\":\"contourcarpet\",\"colorbar\":{\"outlinewidth\":0,\"ticks\":\"\"}}],\"contour\":[{\"type\":\"contour\",\"colorbar\":{\"outlinewidth\":0,\"ticks\":\"\"},\"colorscale\":[[0.0,\"#0d0887\"],[0.1111111111111111,\"#46039f\"],[0.2222222222222222,\"#7201a8\"],[0.3333333333333333,\"#9c179e\"],[0.4444444444444444,\"#bd3786\"],[0.5555555555555556,\"#d8576b\"],[0.6666666666666666,\"#ed7953\"],[0.7777777777777778,\"#fb9f3a\"],[0.8888888888888888,\"#fdca26\"],[1.0,\"#f0f921\"]]}],\"surface\":[{\"type\":\"surface\",\"colorbar\":{\"outlinewidth\":0,\"ticks\":\"\"},\"colorscale\":[[0.0,\"#0d0887\"],[0.1111111111111111,\"#46039f\"],[0.2222222222222222,\"#7201a8\"],[0.3333333333333333,\"#9c179e\"],[0.4444444444444444,\"#bd3786\"],[0.5555555555555556,\"#d8576b\"],[0.6666666666666666,\"#ed7953\"],[0.7777777777777778,\"#fb9f3a\"],[0.8888888888888888,\"#fdca26\"],[1.0,\"#f0f921\"]]}],\"mesh3d\":[{\"type\":\"mesh3d\",\"colorbar\":{\"outlinewidth\":0,\"ticks\":\"\"}}],\"scatter\":[{\"fillpattern\":{\"fillmode\":\"overlay\",\"size\":10,\"solidity\":0.2},\"type\":\"scatter\"}],\"parcoords\":[{\"type\":\"parcoords\",\"line\":{\"colorbar\":{\"outlinewidth\":0,\"ticks\":\"\"}}}],\"scatterpolargl\":[{\"type\":\"scatterpolargl\",\"marker\":{\"colorbar\":{\"outlinewidth\":0,\"ticks\":\"\"}}}],\"bar\":[{\"error_x\":{\"color\":\"#2a3f5f\"},\"error_y\":{\"color\":\"#2a3f5f\"},\"marker\":{\"line\":{\"color\":\"#E5ECF6\",\"width\":0.5},\"pattern\":{\"fillmode\":\"overlay\",\"size\":10,\"solidity\":0.2}},\"type\":\"bar\"}],\"scattergeo\":[{\"type\":\"scattergeo\",\"marker\":{\"colorbar\":{\"outlinewidth\":0,\"ticks\":\"\"}}}],\"scatterpolar\":[{\"type\":\"scatterpolar\",\"marker\":{\"colorbar\":{\"outlinewidth\":0,\"ticks\":\"\"}}}],\"histogram\":[{\"marker\":{\"pattern\":{\"fillmode\":\"overlay\",\"size\":10,\"solidity\":0.2}},\"type\":\"histogram\"}],\"scattergl\":[{\"type\":\"scattergl\",\"marker\":{\"colorbar\":{\"outlinewidth\":0,\"ticks\":\"\"}}}],\"scatter3d\":[{\"type\":\"scatter3d\",\"line\":{\"colorbar\":{\"outlinewidth\":0,\"ticks\":\"\"}},\"marker\":{\"colorbar\":{\"outlinewidth\":0,\"ticks\":\"\"}}}],\"scattermapbox\":[{\"type\":\"scattermapbox\",\"marker\":{\"colorbar\":{\"outlinewidth\":0,\"ticks\":\"\"}}}],\"scatterternary\":[{\"type\":\"scatterternary\",\"marker\":{\"colorbar\":{\"outlinewidth\":0,\"ticks\":\"\"}}}],\"scattercarpet\":[{\"type\":\"scattercarpet\",\"marker\":{\"colorbar\":{\"outlinewidth\":0,\"ticks\":\"\"}}}],\"carpet\":[{\"aaxis\":{\"endlinecolor\":\"#2a3f5f\",\"gridcolor\":\"white\",\"linecolor\":\"white\",\"minorgridcolor\":\"white\",\"startlinecolor\":\"#2a3f5f\"},\"baxis\":{\"endlinecolor\":\"#2a3f5f\",\"gridcolor\":\"white\",\"linecolor\":\"white\",\"minorgridcolor\":\"white\",\"startlinecolor\":\"#2a3f5f\"},\"type\":\"carpet\"}],\"table\":[{\"cells\":{\"fill\":{\"color\":\"#EBF0F8\"},\"line\":{\"color\":\"white\"}},\"header\":{\"fill\":{\"color\":\"#C8D4E3\"},\"line\":{\"color\":\"white\"}},\"type\":\"table\"}],\"barpolar\":[{\"marker\":{\"line\":{\"color\":\"#E5ECF6\",\"width\":0.5},\"pattern\":{\"fillmode\":\"overlay\",\"size\":10,\"solidity\":0.2}},\"type\":\"barpolar\"}],\"pie\":[{\"automargin\":true,\"type\":\"pie\"}]},\"layout\":{\"autotypenumbers\":\"strict\",\"colorway\":[\"#636efa\",\"#EF553B\",\"#00cc96\",\"#ab63fa\",\"#FFA15A\",\"#19d3f3\",\"#FF6692\",\"#B6E880\",\"#FF97FF\",\"#FECB52\"],\"font\":{\"color\":\"#2a3f5f\"},\"hovermode\":\"closest\",\"hoverlabel\":{\"align\":\"left\"},\"paper_bgcolor\":\"white\",\"plot_bgcolor\":\"#E5ECF6\",\"polar\":{\"bgcolor\":\"#E5ECF6\",\"angularaxis\":{\"gridcolor\":\"white\",\"linecolor\":\"white\",\"ticks\":\"\"},\"radialaxis\":{\"gridcolor\":\"white\",\"linecolor\":\"white\",\"ticks\":\"\"}},\"ternary\":{\"bgcolor\":\"#E5ECF6\",\"aaxis\":{\"gridcolor\":\"white\",\"linecolor\":\"white\",\"ticks\":\"\"},\"baxis\":{\"gridcolor\":\"white\",\"linecolor\":\"white\",\"ticks\":\"\"},\"caxis\":{\"gridcolor\":\"white\",\"linecolor\":\"white\",\"ticks\":\"\"}},\"coloraxis\":{\"colorbar\":{\"outlinewidth\":0,\"ticks\":\"\"}},\"colorscale\":{\"sequential\":[[0.0,\"#0d0887\"],[0.1111111111111111,\"#46039f\"],[0.2222222222222222,\"#7201a8\"],[0.3333333333333333,\"#9c179e\"],[0.4444444444444444,\"#bd3786\"],[0.5555555555555556,\"#d8576b\"],[0.6666666666666666,\"#ed7953\"],[0.7777777777777778,\"#fb9f3a\"],[0.8888888888888888,\"#fdca26\"],[1.0,\"#f0f921\"]],\"sequentialminus\":[[0.0,\"#0d0887\"],[0.1111111111111111,\"#46039f\"],[0.2222222222222222,\"#7201a8\"],[0.3333333333333333,\"#9c179e\"],[0.4444444444444444,\"#bd3786\"],[0.5555555555555556,\"#d8576b\"],[0.6666666666666666,\"#ed7953\"],[0.7777777777777778,\"#fb9f3a\"],[0.8888888888888888,\"#fdca26\"],[1.0,\"#f0f921\"]],\"diverging\":[[0,\"#8e0152\"],[0.1,\"#c51b7d\"],[0.2,\"#de77ae\"],[0.3,\"#f1b6da\"],[0.4,\"#fde0ef\"],[0.5,\"#f7f7f7\"],[0.6,\"#e6f5d0\"],[0.7,\"#b8e186\"],[0.8,\"#7fbc41\"],[0.9,\"#4d9221\"],[1,\"#276419\"]]},\"xaxis\":{\"gridcolor\":\"white\",\"linecolor\":\"white\",\"ticks\":\"\",\"title\":{\"standoff\":15},\"zerolinecolor\":\"white\",\"automargin\":true,\"zerolinewidth\":2},\"yaxis\":{\"gridcolor\":\"white\",\"linecolor\":\"white\",\"ticks\":\"\",\"title\":{\"standoff\":15},\"zerolinecolor\":\"white\",\"automargin\":true,\"zerolinewidth\":2},\"scene\":{\"xaxis\":{\"backgroundcolor\":\"#E5ECF6\",\"gridcolor\":\"white\",\"linecolor\":\"white\",\"showbackground\":true,\"ticks\":\"\",\"zerolinecolor\":\"white\",\"gridwidth\":2},\"yaxis\":{\"backgroundcolor\":\"#E5ECF6\",\"gridcolor\":\"white\",\"linecolor\":\"white\",\"showbackground\":true,\"ticks\":\"\",\"zerolinecolor\":\"white\",\"gridwidth\":2},\"zaxis\":{\"backgroundcolor\":\"#E5ECF6\",\"gridcolor\":\"white\",\"linecolor\":\"white\",\"showbackground\":true,\"ticks\":\"\",\"zerolinecolor\":\"white\",\"gridwidth\":2}},\"shapedefaults\":{\"line\":{\"color\":\"#2a3f5f\"}},\"annotationdefaults\":{\"arrowcolor\":\"#2a3f5f\",\"arrowhead\":0,\"arrowwidth\":1},\"geo\":{\"bgcolor\":\"white\",\"landcolor\":\"#E5ECF6\",\"subunitcolor\":\"white\",\"showland\":true,\"showlakes\":true,\"lakecolor\":\"white\"},\"title\":{\"x\":0.05},\"mapbox\":{\"style\":\"light\"}}},\"title\":{\"text\":\"US Elections 2020\"},\"xaxis\":{\"title\":{\"text\":\"Candidate\"}},\"yaxis\":{\"title\":{\"text\":\"Votes\"}}},                        {\"responsive\": true}                    ).then(function(){\n",
              "                            \n",
              "var gd = document.getElementById('4eecc60c-54a2-47c6-a8f6-5688b5166738');\n",
              "var x = new MutationObserver(function (mutations, observer) {{\n",
              "        var display = window.getComputedStyle(gd).display;\n",
              "        if (!display || display === 'none') {{\n",
              "            console.log([gd, 'removed!']);\n",
              "            Plotly.purge(gd);\n",
              "            observer.disconnect();\n",
              "        }}\n",
              "}});\n",
              "\n",
              "// Listen for the removal of the full notebook cells\n",
              "var notebookContainer = gd.closest('#notebook-container');\n",
              "if (notebookContainer) {{\n",
              "    x.observe(notebookContainer, {childList: true});\n",
              "}}\n",
              "\n",
              "// Listen for the clearing of the current output cell\n",
              "var outputEl = gd.closest('.output');\n",
              "if (outputEl) {{\n",
              "    x.observe(outputEl, {childList: true});\n",
              "}}\n",
              "\n",
              "                        })                };                            </script>        </div>\n",
              "</body>\n",
              "</html>"
            ]
          },
          "metadata": {}
        }
      ]
    },
    {
      "cell_type": "markdown",
      "source": [
        "Creamos una sesión de Spark"
      ],
      "metadata": {
        "id": "z1GX3QekpfOd"
      }
    },
    {
      "cell_type": "code",
      "source": [
        "spark = SparkSession.builder.getOrCreate()"
      ],
      "metadata": {
        "id": "KA59S1hJooH_"
      },
      "execution_count": 6,
      "outputs": []
    },
    {
      "cell_type": "markdown",
      "source": [
        "Utilizaremos Apache Spark para convertir el conjunto en un RDD"
      ],
      "metadata": {
        "id": "CRdJokIeopEi"
      }
    },
    {
      "cell_type": "code",
      "source": [
        "rdd = spark.sparkContext.parallelize(state.values.tolist())"
      ],
      "metadata": {
        "id": "ixUqH6Eepd74"
      },
      "execution_count": 7,
      "outputs": []
    },
    {
      "cell_type": "code",
      "source": [
        "for r in rdd.collect():\n",
        "  print(r)"
      ],
      "metadata": {
        "colab": {
          "base_uri": "https://localhost:8080/"
        },
        "id": "qIHaTaIevil9",
        "outputId": "6789008f-64dc-41b6-9c0b-ca3d3eeaaaf8"
      },
      "execution_count": null,
      "outputs": [
        {
          "output_type": "stream",
          "name": "stdout",
          "text": [
            "[6, 'US PRESIDENT', 'BIDEN, JOSEPH R. JR', 11110250, 'DEMOCRAT']\n",
            "[6, 'US PRESIDENT', 'TRUMP, DONALD J.', 6006429, 'REPUBLICAN']\n",
            "[6, 'US PRESIDENT', 'OTHER', 384202, 'OTHER']\n"
          ]
        }
      ]
    },
    {
      "cell_type": "markdown",
      "source": [
        "Duplicamos los registros según el número de votos"
      ],
      "metadata": {
        "id": "gZ-0l4rMyOVc"
      }
    },
    {
      "cell_type": "code",
      "source": [
        "rdd = rdd.flatMap(lambda row: [row] * row[3])"
      ],
      "metadata": {
        "id": "LtDX7TQPyNxs"
      },
      "execution_count": 8,
      "outputs": []
    },
    {
      "cell_type": "markdown",
      "source": [
        "Implementamos una función que genera un número SSN (Social Security Number) aleatorio que cumpla las normas de la región de California"
      ],
      "metadata": {
        "id": "rsifDc0819T8"
      }
    },
    {
      "cell_type": "code",
      "source": [
        "def ssn_california():\n",
        "  return '0' + str(random.randint(60_100_000, 69_999_999))"
      ],
      "metadata": {
        "id": "YAhEsZD31_CG"
      },
      "execution_count": 9,
      "outputs": []
    },
    {
      "cell_type": "markdown",
      "source": [
        "Agregamos un snn a cada registro en el rdd"
      ],
      "metadata": {
        "id": "jQNvYfCW2DbO"
      }
    },
    {
      "cell_type": "code",
      "source": [
        "rdd = spark.sparkContext.parallelize([(ssn_california(),) + tuple(row) for row in rdd.collect()])"
      ],
      "metadata": {
        "id": "wd0SYbCz2Ipc"
      },
      "execution_count": 10,
      "outputs": []
    },
    {
      "cell_type": "markdown",
      "source": [
        "Una vez obtenidos los snn eliminamos la columna con el total de votos "
      ],
      "metadata": {
        "id": "gZf3FOsS3lSZ"
      }
    },
    {
      "cell_type": "code",
      "source": [
        "rdd = rdd.map(lambda row: row[:4] + row[5:])"
      ],
      "metadata": {
        "id": "uRnDsswp3lpS"
      },
      "execution_count": 11,
      "outputs": []
    },
    {
      "cell_type": "markdown",
      "source": [
        "Observamos una muestra de nuestro rdd"
      ],
      "metadata": {
        "id": "Rt_XrtHS399Q"
      }
    },
    {
      "cell_type": "code",
      "source": [
        "rdd.take(5)"
      ],
      "metadata": {
        "id": "cEf71SFc6Ghq",
        "colab": {
          "base_uri": "https://localhost:8080/"
        },
        "outputId": "a7d299b2-5687-4152-bb02-ddfc8ebfb737"
      },
      "execution_count": null,
      "outputs": [
        {
          "output_type": "execute_result",
          "data": {
            "text/plain": [
              "[('061443138', 6, 'US PRESIDENT', 'BIDEN, JOSEPH R. JR', 'DEMOCRAT'),\n",
              " ('062503114', 6, 'US PRESIDENT', 'BIDEN, JOSEPH R. JR', 'DEMOCRAT'),\n",
              " ('065959610', 6, 'US PRESIDENT', 'BIDEN, JOSEPH R. JR', 'DEMOCRAT'),\n",
              " ('065356903', 6, 'US PRESIDENT', 'BIDEN, JOSEPH R. JR', 'DEMOCRAT'),\n",
              " ('061278064', 6, 'US PRESIDENT', 'BIDEN, JOSEPH R. JR', 'DEMOCRAT')]"
            ]
          },
          "metadata": {},
          "execution_count": 12
        }
      ]
    },
    {
      "cell_type": "markdown",
      "source": [
        "##Flujo de Datos"
      ],
      "metadata": {
        "id": "5j_rKiUjg4s3"
      }
    },
    {
      "cell_type": "markdown",
      "source": [
        "Creamos un streamig con intervalo de un 1"
      ],
      "metadata": {
        "id": "ttwvJjHoPuBz"
      }
    },
    {
      "cell_type": "code",
      "source": [
        "ssc = StreamingContext(spark.sparkContext, 1)"
      ],
      "metadata": {
        "colab": {
          "base_uri": "https://localhost:8080/"
        },
        "id": "7fQDJmGmPtV0",
        "outputId": "3437b8df-3b19-4ebc-d3e2-20d0f8ef6f57"
      },
      "execution_count": 12,
      "outputs": [
        {
          "output_type": "stream",
          "name": "stderr",
          "text": [
            "/usr/local/lib/python3.10/dist-packages/pyspark/streaming/context.py:72: FutureWarning: DStream is deprecated as of Spark 3.4.0. Migrate to Structured Streaming.\n",
            "  warnings.warn(\n"
          ]
        }
      ]
    },
    {
      "cell_type": "markdown",
      "source": [
        "Creamos una lista que almacene cada batch"
      ],
      "metadata": {
        "id": "-9IG-fuU7GqV"
      }
    },
    {
      "cell_type": "code",
      "source": [
        "cola_rdds = []"
      ],
      "metadata": {
        "id": "B6dIUg3a7GU3"
      },
      "execution_count": 13,
      "outputs": []
    },
    {
      "cell_type": "markdown",
      "source": [
        "Definimos una función que procese el RDD, agregando cada batch en el flujo de datos a un DataFrame que actualiza el gráfico"
      ],
      "metadata": {
        "id": "CWepjTUQ2ruD"
      }
    },
    {
      "cell_type": "code",
      "source": [
        "def process_rdd(_, rdd):\n",
        "    global cola_rdds\n",
        "    cola_rdds.extend(rdd.collect())\n",
        "\n",
        "    # Guardamos los datos acumulados en DataFrame\n",
        "    batch_df = spark.createDataFrame(cola_rdds, [\"ssn\", \"state_fips\", \"office\", \"candidate\", \"candidatevotes\", \"party_simplified\"])\n",
        "\n",
        "    # Gráfico de barras\n",
        "    fig = px.bar(batch_df, x=\"candidate\", y=\"candidatevotes\", text='party_simplified',color=\"candidate\",\n",
        "                 animation_frame=\"ssn\", range_y=[0, max(cola_rdds, key=lambda x: x[4])[4]])\n",
        "\n",
        "    # Título y etiquetas\n",
        "    fig.update_layout(title='US Elections 2020',\n",
        "                      xaxis_title='Candidato', yaxis_title='Cantidad de votos')\n",
        "\n",
        "    fig.show()"
      ],
      "metadata": {
        "id": "Y8oRKpuS2rSd"
      },
      "execution_count": 18,
      "outputs": []
    },
    {
      "cell_type": "markdown",
      "source": [
        "Creamos un flujo de datos a partir del RDD"
      ],
      "metadata": {
        "id": "Wp34jQT9SUWX"
      }
    },
    {
      "cell_type": "code",
      "source": [
        "flujo_datos = ssc.queueStream([rdd])"
      ],
      "metadata": {
        "id": "mk9C_OlsSSWv"
      },
      "execution_count": 15,
      "outputs": []
    },
    {
      "cell_type": "markdown",
      "source": [
        "Procesamos los datos en el flujo"
      ],
      "metadata": {
        "id": "o9WZupyw8z7I"
      }
    },
    {
      "cell_type": "code",
      "source": [
        "flujo_datos.foreachRDD(process_rdd)"
      ],
      "metadata": {
        "id": "LbzKB9n523o3"
      },
      "execution_count": 16,
      "outputs": []
    },
    {
      "cell_type": "markdown",
      "source": [
        "Iniciamos el StreamingContext y mantentemos en ejecución"
      ],
      "metadata": {
        "id": "Ayv72zT-0AhQ"
      }
    },
    {
      "cell_type": "code",
      "source": [
        "ssc.start()\n",
        "ssc.awaitTermination()"
      ],
      "metadata": {
        "id": "z7cs943l85on"
      },
      "execution_count": null,
      "outputs": []
    },
    {
      "cell_type": "markdown",
      "source": [
        "#Dataset"
      ],
      "metadata": {
        "id": "79wkj74tOcza"
      }
    },
    {
      "cell_type": "markdown",
      "source": [
        "[US Elections](https://www.kaggle.com/datasets/tunguz/us-elections-dataset?select=1976-2020-president.csv)"
      ],
      "metadata": {
        "id": "NTvVjzF7OecE"
      }
    },
    {
      "cell_type": "markdown",
      "source": [
        "##Diccionario de Datos"
      ],
      "metadata": {
        "id": "qogghLU6shv7"
      }
    },
    {
      "cell_type": "markdown",
      "source": [
        "**ssn**: Social Security Number\n",
        "\n",
        "**state_fips**: Id estado\n",
        "\n",
        "**office**: Tipo elecciones\n",
        "\n",
        "**candidate**: Nombre del candidato\n",
        "\n",
        "**candidatevotes**: Número de votos totales obtenidos por estado\n",
        "\n",
        "**party_simplified**: Partido del candidato"
      ],
      "metadata": {
        "id": "-A4kntmPsmJp"
      }
    }
  ]
}